{
 "cells": [
  {
   "cell_type": "code",
   "execution_count": 42,
   "metadata": {},
   "outputs": [],
   "source": [
    "with open('03_puzzle_input.txt', 'r') as f:\n",
    "    data = [ [ char for char in row.strip()] for row in f.readlines()]\n",
    "#data = [ [ 'row1 col1', 'row1 col2', 'row1 col3', ], [ 'row2 col1', 'row2 col2', 'row2 col3', ], [ 'row3 col1', 'row3 col2', 'row3 col3', ], ]\n"
   ]
  },
  {
   "cell_type": "code",
   "execution_count": 43,
   "metadata": {},
   "outputs": [],
   "source": [
    "import pandas as pd\n",
    "df = pd.DataFrame(data)"
   ]
  },
  {
   "cell_type": "code",
   "execution_count": 44,
   "metadata": {},
   "outputs": [],
   "source": [
    "most_commons, least_commons = [], []\n",
    "\n",
    "for i in range(len(df.columns)):\n",
    "    column_sorted = df[i].sort_values().tolist()\n",
    "    middle_index = len(column_sorted) / 2 - 1\n",
    "    most_common = column_sorted[int(middle_index)]\n",
    "    most_commons.append(most_common)\n",
    "    least_commons.append(str(int(not int(most_common))))"
   ]
  },
  {
   "cell_type": "code",
   "execution_count": 45,
   "metadata": {},
   "outputs": [
    {
     "name": "stdout",
     "output_type": "stream",
     "text": [
      "3923414\n"
     ]
    }
   ],
   "source": [
    "gamma = int(''.join(most_commons), 2)\n",
    "epsilon = int(''.join(least_commons), 2)\n",
    "\n",
    "result = gamma * epsilon\n",
    "\n",
    "print(result)"
   ]
  },
  {
   "cell_type": "code",
   "execution_count": 47,
   "metadata": {},
   "outputs": [],
   "source": [
    "reduced_for_most_common = df\n",
    "for i in range(len(df.columns)):\n",
    "    ones = reduced_for_most_common[i][reduced_for_most_common[i] == '1'].count()\n",
    "    zeroes = reduced_for_most_common[i][reduced_for_most_common[i] == '0'].count()\n",
    "\n",
    "    winner = '1' if ones >= zeroes else '0'\n",
    "\n",
    "    reduced_for_most_common = reduced_for_most_common[reduced_for_most_common[i] == winner]\n",
    "    if reduced_for_most_common.shape[0] == 1:\n",
    "        break\n",
    "\n",
    "reduced_for_least_common = df\n",
    "for i in range(len(df.columns)):\n",
    "    ones = reduced_for_least_common[i][reduced_for_least_common[i] == '1'].count()\n",
    "    zeroes = reduced_for_least_common[i][reduced_for_least_common[i] == '0'].count()\n",
    "\n",
    "    winner = '0' if ones >= zeroes else '1'\n",
    "\n",
    "    reduced_for_least_common = reduced_for_least_common[reduced_for_least_common[i] == winner]\n",
    "    if reduced_for_least_common.shape[0] == 1:\n",
    "        break"
   ]
  },
  {
   "cell_type": "code",
   "execution_count": 48,
   "metadata": {},
   "outputs": [
    {
     "name": "stdout",
     "output_type": "stream",
     "text": [
      "5852595\n"
     ]
    }
   ],
   "source": [
    "oxygen_generator = int(''.join(reduced_for_most_common.iloc[0].values), 2)\n",
    "co2_scrubber = int(''.join(reduced_for_least_common.iloc[0].values), 2)\n",
    "\n",
    "result = oxygen_generator * co2_scrubber\n",
    "\n",
    "print(result)"
   ]
  }
 ],
 "metadata": {
  "interpreter": {
   "hash": "c711a5c830ee8a98c5f3f97c7528caf4fcb0a7f3f71acd1c519d228ecd4ae6bc"
  },
  "kernelspec": {
   "display_name": "Python 3.9.9 64-bit ('shims': pyenv)",
   "name": "python3"
  },
  "language_info": {
   "codemirror_mode": {
    "name": "ipython",
    "version": 3
   },
   "file_extension": ".py",
   "mimetype": "text/x-python",
   "name": "python",
   "nbconvert_exporter": "python",
   "pygments_lexer": "ipython3",
   "version": "3.9.9"
  },
  "orig_nbformat": 4
 },
 "nbformat": 4,
 "nbformat_minor": 2
}
